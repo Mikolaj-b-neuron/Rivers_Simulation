{
 "cells": [
  {
   "cell_type": "code",
   "execution_count": null,
   "metadata": {},
   "outputs": [],
   "source": [
    "import numpy as np\n",
    "import random\n",
    "import matplotlib.pyplot as plt\n",
    "from tqdm import tqdm"
   ]
  },
  {
   "cell_type": "code",
   "execution_count": null,
   "metadata": {},
   "outputs": [],
   "source": [
    "# parmeters\n",
    "grid_x, grid_y = 300, 200\n",
    "I = 1.0  # slope gradient\n",
    "beta = 0.05\n",
    "Dh = 10  # erosion height\n",
    "r = 200  # number of raindrops\n",
    "total_drops = 5000\n",
    "\n",
    "# Initialize the height map\n",
    "height_map = np.zeros((grid_x, grid_y))\n",
    "for i in range(grid_y):\n",
    "    height_map[:, i] = I * i + 1e-6 * np.random.rand(grid_x)  # small randomnes to simulate real terrain"
   ]
  },
  {
   "cell_type": "code",
   "execution_count": null,
   "metadata": {},
   "outputs": [],
   "source": [
    "def get_neighbors(x, y, width, height):\n",
    "    neighbors = []\n",
    "\n",
    "    # Left cell\n",
    "    if x - 1 >= 0:\n",
    "        neighbors.append((x - 1, y))\n",
    "    else:\n",
    "        neighbors.append((width - 1, y))\n",
    "\n",
    "    # right cell\n",
    "    if x + 1 < width:\n",
    "        neighbors.append((x + 1, y))\n",
    "    else:\n",
    "        neighbors.append((0, y))\n",
    "\n",
    "    # North cell\n",
    "    if y - 1 >= 0:\n",
    "        neighbors.append((x, y - 1))\n",
    "\n",
    "    # south cell\n",
    "    if y + 1 < height:\n",
    "        neighbors.append((x, y + 1))\n",
    "\n",
    "    return neighbors"
   ]
  },
  {
   "cell_type": "code",
   "execution_count": null,
   "metadata": {},
   "outputs": [],
   "source": [
    "\n",
    "def get_next_site(x, y, height_map):\n",
    "    neighbors = get_neighbors(x, y, height_map.shape[0], height_map.shape[1])\n",
    "\n",
    "    delta_h = [height_map[x, y] - height_map[i, j] for i, j in neighbors]\n",
    "    print(\"delta_h values:\", delta_h)  # Debug line from net help\n",
    "\n",
    "    exp_values = [beta * dh for dh in delta_h]\n",
    "    print(\"exp_values:\", exp_values) \n",
    "\n",
    "    weights = [np.exp(ev) if ev >= 0 else 0 for ev in exp_values]\n",
    "    print(\"weights:\", weights) \n",
    "\n",
    "    chosen_neighbor = random.choices(neighbors, weights)[0]\n",
    "\n",
    "    # set limit to maximum 'depth'\n",
    "    if height_map[chosen_neighbor] < height_map[x, y]:\n",
    "        return chosen_neighbor\n",
    "    else:\n",
    "        return None"
   ]
  },
  {
   "cell_type": "code",
   "execution_count": null,
   "metadata": {},
   "outputs": [],
   "source": [
    "def simulate_raindrop(x, y, height_map):\n",
    "    path = [(x, y)]\n",
    "    counter = 0\n",
    "    max_iterations = 1000  #\n",
    "\n",
    "    while y > 0:  # until the raindrop reaches bottom\n",
    "        counter += 1\n",
    "        if counter > max_iterations:\n",
    "            #print(f\"Exceeded {max_iterations} iterations at point ({x}, {y}).\")\n",
    "            #print(\"Path:\", path)\n",
    "            break  # countermeasure to not get stuck in local minimas\n",
    "        next_site = get_next_site(x, y, height_map)\n",
    "        if next_site is None:\n",
    "            break  # We have reached a local minimum\n",
    "        x, y = next_site\n",
    "        path.append((x, y))\n",
    "\n",
    "    return path"
   ]
  },
  {
   "cell_type": "code",
   "execution_count": null,
   "metadata": {},
   "outputs": [],
   "source": [
    "paths = []  # List to hold all paths\n",
    "\n",
    "for _ in tqdm(range(total_drops)):\n",
    "    # Select a random starting point\n",
    "    start_x = random.randint(0, grid_x - 1)\n",
    "    start_y = random.randint(0, grid_y - 1)\n",
    "\n",
    "    # Simulate the path of the raindrop\n",
    "    path = simulate_raindrop(start_x, start_y, height_map)\n",
    "    paths.append(path) # we save our path itself for later\n",
    "    \n",
    "    # Erode the height map along the path\n",
    "    for x, y in path:\n",
    "        height_map[x, y] -= Dh"
   ]
  },
  {
   "cell_type": "code",
   "execution_count": null,
   "metadata": {},
   "outputs": [],
   "source": [
    "fig = plt.figure(figsize=(10, 8))\n",
    "ax = fig.add_subplot(111, projection='3d')\n",
    "\n",
    "X = np.arange(0, grid_x, 1)\n",
    "Y = np.arange(0, grid_y, 1)\n",
    "X, Y = np.meshgrid(X, Y)\n",
    "Z = height_map[X, Y]\n",
    "\n",
    "ax.plot_surface(X, Y, Z, cmap='terrain')\n",
    "\n",
    "ax.set_xlabel('X')\n",
    "ax.set_ylabel('Y')\n",
    "ax.set_zlabel('Height')\n",
    "plt.title('3D plot of eroded slope without avalanche correction')\n",
    "plt.savefig('3D slope NoAvalanche.png')\n",
    "plt.show()"
   ]
  },
  {
   "cell_type": "code",
   "execution_count": null,
   "metadata": {},
   "outputs": [],
   "source": [
    "plt.figure(figsize=(10, 8))\n",
    "\n",
    "plt.imshow(height_map, cmap='terrain', origin='lower')\n",
    "plt.colorbar(label='Height')\n",
    "\n",
    "plt.xlabel('X')\n",
    "plt.ylabel('Y')\n",
    "plt.title('2D plot of eroded slope without avalanche correction')\n",
    "\n",
    "plt.show()"
   ]
  },
  {
   "cell_type": "code",
   "execution_count": null,
   "metadata": {},
   "outputs": [],
   "source": [
    "river_network = np.zeros((grid_x, grid_y))\n",
    "\n",
    "for path in paths:\n",
    "    for x, y in path:\n",
    "        river_network[x, y] += 1\n",
    "# simple paths for rivers plot\n",
    "\n",
    "# Plot the river network\n",
    "plt.figure(figsize=(10, 8))\n",
    "plt.imshow(river_network, origin='lower')\n",
    "plt.xlabel('X')\n",
    "plt.ylabel('Y')\n",
    "plt.title('2D river_network')\n",
    "plt.savefig('river_network NoAvalanche.png')\n",
    "plt.show()"
   ]
  },
  {
   "cell_type": "code",
   "execution_count": null,
   "metadata": {},
   "outputs": [],
   "source": [
    "def apply_avalanches(height_map, R):\n",
    "    width, height = height_map.shape\n",
    "\n",
    "    # Repeat until all Dh < R\n",
    "    while True:\n",
    "        Dh = np.zeros((width, height))\n",
    "        for x in range(width):\n",
    "            for y in range(height):\n",
    "                neighbors = get_neighbors(x, y, width, height)\n",
    "                for i, j in neighbors:\n",
    "                    Dh[x, y] = max(Dh[x, y], height_map[x, y] - height_map[i, j])\n",
    "\n",
    "        # If depthbecomes bigger than R, we reduce height by 0.25 * Dh\n",
    "        if np.max(Dh) > R:\n",
    "            for x in range(width):\n",
    "                for y in range(height):\n",
    "                    if Dh[x, y] > R:\n",
    "                        height_map[x, y] -= 0.25 * Dh[x, y]\n",
    "        else:\n",
    "            break \n",
    "\n",
    "    return height_map"
   ]
  },
  {
   "cell_type": "code",
   "execution_count": null,
   "metadata": {},
   "outputs": [],
   "source": [
    "Avalanche_height_map = apply_avalanches(height_map,190)"
   ]
  },
  {
   "cell_type": "code",
   "execution_count": null,
   "metadata": {},
   "outputs": [],
   "source": [
    "paths_avalanche = []  # List to hold all paths\n",
    "\n",
    "for _ in tqdm(range(total_drops)):\n",
    "    # Select a random starting point\n",
    "    start_x = random.randint(0, grid_x - 1)\n",
    "    start_y = random.randint(0, grid_y - 1)\n",
    "\n",
    "    # Simulate the path of the raindrop\n",
    "    path_A = simulate_raindrop(start_x, start_y, Avalanche_height_map)\n",
    "    paths_avalanche.append(path_A) # we save our path itself for later\n",
    "    \n",
    "    # Erode the height map along the path\n",
    "    #for x, y in path:\n",
    "    #    height_map[x, y] -= Dh"
   ]
  }
 ],
 "metadata": {
  "language_info": {
   "name": "python"
  }
 },
 "nbformat": 4,
 "nbformat_minor": 2
}
